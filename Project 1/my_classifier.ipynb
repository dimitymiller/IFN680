{
 "cells": [
  {
   "cell_type": "code",
   "execution_count": null,
   "id": "2f234950-43d6-491a-83ab-9ece624f6b99",
   "metadata": {
    "tags": []
   },
   "outputs": [],
   "source": [
    "import numpy as np\n",
    "import torchvision\n",
    "import PIL.Image as Image\n"
   ]
  },
  {
   "cell_type": "code",
   "execution_count": null,
   "id": "4e606dc3-3be5-4c39-9c3a-7c23b3842f6c",
   "metadata": {
    "tags": []
   },
   "outputs": [],
   "source": [
    "class MyClassifier():\n",
    "    \n",
    "    ''' Do not change the class name. Do not change any of the existing function names. You may add extra functions as you see fit.'''\n",
    "    \n",
    "    def __init__(self):\n",
    "        self.class_labels = ['flower_1', 'flower_2', 'flower_3', 'flower_4', 'flower_5',\n",
    "                             'weed_1', 'weed_2', 'weed_3', 'weed_4', 'weed_5']\n",
    "        \n",
    "    def load_model(self):\n",
    "        ''' This function will initialise your model. \n",
    "            You will need to load the model architecture and load the saved weights file you wish to submit as your best model.\n",
    "        '''\n",
    "        \n",
    "        print('Loading ResNet 18 with Imagenet pre-trained weights')\n",
    "        model = torchvision.models.resnet18(weights='IMAGENET1K_V1')\n",
    "        \n",
    "    def test_image(self, file_name):\n",
    "        ''' This function will be given the file name of an image, and should return the predicted class label for that image. \n",
    "            e.g. file_name = 'brisbane_flora_fauna_society/labelled/flower_1/im_001.jpg'\n",
    "                return 'flower_1'\n",
    "            Currently the function is returning a random label\n",
    "                \n",
    "        '''\n",
    "        \n",
    "        image = Image.open(file_name)\n",
    "        \n",
    "        predicted_cls = np.random.choice(self.class_labels)\n",
    "        \n",
    "        return predicted_cls\n",
    "        \n",
    "        "
   ]
  }
 ],
 "metadata": {
  "kernelspec": {
   "display_name": "Python 3 (ipykernel)",
   "language": "python",
   "name": "python3"
  },
  "language_info": {
   "codemirror_mode": {
    "name": "ipython",
    "version": 3
   },
   "file_extension": ".py",
   "mimetype": "text/x-python",
   "name": "python",
   "nbconvert_exporter": "python",
   "pygments_lexer": "ipython3",
   "version": "3.10.12"
  }
 },
 "nbformat": 4,
 "nbformat_minor": 5
}
