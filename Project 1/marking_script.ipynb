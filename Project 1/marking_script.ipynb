{
 "cells": [
  {
   "cell_type": "code",
   "execution_count": 1,
   "id": "5d494667-4fd8-4830-90a6-83b864ce8cb2",
   "metadata": {
    "tags": []
   },
   "outputs": [],
   "source": [
    "%run my_classifier.ipynb"
   ]
  },
  {
   "cell_type": "code",
   "execution_count": null,
   "id": "e0d4ff12-3de1-4dda-abdb-9a751ec8dbdf",
   "metadata": {},
   "outputs": [],
   "source": [
    "my_full_name = 'Jane Doe'\n",
    "my_id = 'n0000000'"
   ]
  },
  {
   "cell_type": "code",
   "execution_count": 2,
   "id": "5078fa8f-171f-4331-b50b-dcbbe4141c0f",
   "metadata": {
    "tags": []
   },
   "outputs": [
    {
     "name": "stdout",
     "output_type": "stream",
     "text": [
      "Loading ResNet 18 with Imagenet pre-trained weights\n",
      "Prediction is in an acceptable format.\n",
      "Prediction was: flower_5\n"
     ]
    }
   ],
   "source": [
    "submission = MyClassifier()\n",
    "submission.load_model()\n",
    "prediction = submission.test_image('brisbane_flora_fauna_society/labelled/flower_1/im_001.jpg')\n",
    "\n",
    "if prediction not in ['flower_1', 'flower_2', 'flower_3', 'flower_4', 'flower_5',\n",
    "                             'weed_1', 'weed_2', 'weed_3', 'weed_4', 'weed_5']:\n",
    "    print('There is a problem with the prediction. It does not match any of the class labels.')\n",
    "    print(f'Prediction was: {prediction}')\n",
    "else:\n",
    "    print('Prediction is in an acceptable format.')\n",
    "    print(f'Prediction was: {prediction}')"
   ]
  },
  {
   "cell_type": "code",
   "execution_count": null,
   "id": "67e56baa-20b3-468a-bba7-5ca9ea124a6c",
   "metadata": {},
   "outputs": [],
   "source": []
  }
 ],
 "metadata": {
  "kernelspec": {
   "display_name": "Python 3 (ipykernel)",
   "language": "python",
   "name": "python3"
  },
  "language_info": {
   "codemirror_mode": {
    "name": "ipython",
    "version": 3
   },
   "file_extension": ".py",
   "mimetype": "text/x-python",
   "name": "python",
   "nbconvert_exporter": "python",
   "pygments_lexer": "ipython3",
   "version": "3.10.12"
  }
 },
 "nbformat": 4,
 "nbformat_minor": 5
}
