{
 "cells": [
  {
   "cell_type": "code",
   "execution_count": null,
   "id": "5d494667-4fd8-4830-90a6-83b864ce8cb2",
   "metadata": {
    "tags": []
   },
   "outputs": [],
   "source": [
    "%run my_classifier.ipynb"
   ]
  },
  {
   "cell_type": "code",
   "execution_count": null,
   "id": "5078fa8f-171f-4331-b50b-dcbbe4141c0f",
   "metadata": {
    "tags": []
   },
   "outputs": [],
   "source": [
    "submission = MyClassifier()\n",
    "\n",
    "print(f'Testing performance for {submission.full_name}: {submission.student_id}')\n",
    "print('########################################################################')\n",
    "\n",
    "print('Loading model...')\n",
    "submission.load_model()\n",
    "\n",
    "print('Testing image...')\n",
    "prediction = submission.test_image('brisbane_flora_fauna_society/labelled/flower_1/im_001.jpg')\n",
    "\n",
    "if prediction not in ['flower_1', 'flower_2', 'flower_3', 'flower_4', 'flower_5',\n",
    "                             'weed_1', 'weed_2', 'weed_3', 'weed_4', 'weed_5']:\n",
    "    print('There is a problem with the prediction. It does not match any of the class labels.')\n",
    "    print(f'Prediction was: {prediction}')\n",
    "else:\n",
    "    print('Prediction is in an acceptable format.')\n",
    "    print(f'Prediction was: {prediction}')"
   ]
  }
 ],
 "metadata": {
  "kernelspec": {
   "display_name": "Python 3 (ipykernel)",
   "language": "python",
   "name": "python3"
  },
  "language_info": {
   "codemirror_mode": {
    "name": "ipython",
    "version": 3
   },
   "file_extension": ".py",
   "mimetype": "text/x-python",
   "name": "python",
   "nbconvert_exporter": "python",
   "pygments_lexer": "ipython3",
   "version": "3.10.12"
  }
 },
 "nbformat": 4,
 "nbformat_minor": 5
}
